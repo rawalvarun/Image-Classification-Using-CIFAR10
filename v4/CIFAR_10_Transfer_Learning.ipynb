{
  "nbformat": 4,
  "nbformat_minor": 0,
  "metadata": {
    "colab": {
      "name": "CIFAR-10_Transfer_Learning.ipynb",
      "version": "0.3.2",
      "provenance": [],
      "collapsed_sections": []
    },
    "kernelspec": {
      "name": "python3",
      "display_name": "Python 3"
    },
    "accelerator": "GPU"
  },
  "cells": [
    {
      "metadata": {
        "id": "7TQQl5A32ZWu",
        "colab_type": "code",
        "colab": {
          "base_uri": "https://localhost:8080/",
          "height": 36
        },
        "outputId": "f5bca4ee-a442-4f1e-c609-d19b4005bc43"
      },
      "cell_type": "code",
      "source": [
        "import cv2\n",
        "import numpy as np\n",
        "import matplotlib.pyplot as plt\n",
        "\n",
        "from keras.datasets import cifar10\n",
        "from keras.applications import vgg16\n",
        "from keras.utils import to_categorical\n",
        "from keras.models import Model\n",
        "from keras.layers import Dense, GlobalAveragePooling2D"
      ],
      "execution_count": 1,
      "outputs": [
        {
          "output_type": "stream",
          "text": [
            "Using TensorFlow backend.\n"
          ],
          "name": "stderr"
        }
      ]
    },
    {
      "metadata": {
        "id": "OAjGIMCh24cf",
        "colab_type": "code",
        "colab": {}
      },
      "cell_type": "code",
      "source": [
        "(x_train, y_train),(x_test, y_test) = cifar10.load_data()"
      ],
      "execution_count": 0,
      "outputs": []
    },
    {
      "metadata": {
        "id": "-EgMgB5NPaE8",
        "colab_type": "code",
        "colab": {}
      },
      "cell_type": "code",
      "source": [
        "# Upscale x_train and y_train to fit minimum input_shape of VGG16 model that is (48,48)\n",
        "x_train_resized = np.zeros(shape = (x_train.shape[0], 48, 48, 3))\n",
        "x_test_resized = np.zeros(shape = (x_test.shape[0], 48, 48, 3))\n",
        "\n",
        "for i, img in enumerate(x_train):\n",
        "  resized_img = cv2.resize(img, dsize=(48, 48), interpolation=cv2.INTER_CUBIC)\n",
        "  x_train_resized[i] = resized_img\n",
        "  \n",
        "for i, img in enumerate(x_test):\n",
        "  resized_img = cv2.resize(img, dsize=(48, 48), interpolation=cv2.INTER_CUBIC)\n",
        "  x_test_resized[i] = resized_img\n"
      ],
      "execution_count": 0,
      "outputs": []
    },
    {
      "metadata": {
        "id": "9r8eAczElFSg",
        "colab_type": "code",
        "colab": {}
      },
      "cell_type": "code",
      "source": [
        "x_train = x_train_resized\n",
        "x_test  = x_test_resized\n",
        "\n",
        "x_train = x_train.astype('float32')\n",
        "x_test  = x_test.astype('float32')\n",
        "\n",
        "x_train = vgg16.preprocess_input(x_train)\n",
        "x_test  = vgg16.preprocess_input(x_test)\n",
        "\n",
        "y_train = to_categorical(y_train)\n",
        "y_test  = to_categorical(y_test)"
      ],
      "execution_count": 0,
      "outputs": []
    },
    {
      "metadata": {
        "id": "0oldcy0r33TE",
        "colab_type": "code",
        "colab": {}
      },
      "cell_type": "code",
      "source": [
        "base_model = vgg16.VGG16(include_top = False, input_shape = (48, 48, 3), weights = 'imagenet')\n",
        "\n",
        "x = base_model.output\n",
        "x = GlobalAveragePooling2D()(x)\n",
        "\n",
        "x = Dense(1024, activation = 'relu')(x)\n",
        "\n",
        "prediction = Dense(10, activation = 'softmax')(x)\n",
        "\n",
        "model = Model(inputs=base_model.input, outputs=prediction)"
      ],
      "execution_count": 0,
      "outputs": []
    },
    {
      "metadata": {
        "id": "ONtXBkDU5YPp",
        "colab_type": "code",
        "colab": {}
      },
      "cell_type": "code",
      "source": [
        "for layer in base_model.layers:\n",
        "  layer.trainable = False"
      ],
      "execution_count": 0,
      "outputs": []
    },
    {
      "metadata": {
        "id": "4zAAOufRO8Xo",
        "colab_type": "code",
        "colab": {}
      },
      "cell_type": "code",
      "source": [
        "model.compile(optimizer = 'adam', loss='categorical_crossentropy', metrics = ['accuracy'])\n"
      ],
      "execution_count": 0,
      "outputs": []
    },
    {
      "metadata": {
        "id": "Vvw2F3SC6MQS",
        "colab_type": "code",
        "colab": {
          "base_uri": "https://localhost:8080/",
          "height": 432
        },
        "outputId": "e06ba515-aa20-4301-daa1-c78b83abc438"
      },
      "cell_type": "code",
      "source": [
        "model.fit(x_train, y_train, batch_size = 128, epochs = 10, shuffle = True, validation_split = 0.2)"
      ],
      "execution_count": 8,
      "outputs": [
        {
          "output_type": "stream",
          "text": [
            "Train on 40000 samples, validate on 10000 samples\n",
            "Epoch 1/10\n",
            "40000/40000 [==============================] - 32s 809us/step - loss: 2.2358 - acc: 0.6374 - val_loss: 1.0372 - val_acc: 0.6757\n",
            "Epoch 2/10\n",
            "40000/40000 [==============================] - 30s 754us/step - loss: 0.6925 - acc: 0.7770 - val_loss: 0.9738 - val_acc: 0.7040\n",
            "Epoch 3/10\n",
            "40000/40000 [==============================] - 30s 753us/step - loss: 0.4138 - acc: 0.8619 - val_loss: 1.0107 - val_acc: 0.7072\n",
            "Epoch 4/10\n",
            "40000/40000 [==============================] - 30s 754us/step - loss: 0.2576 - acc: 0.9169 - val_loss: 1.0964 - val_acc: 0.7069\n",
            "Epoch 5/10\n",
            "40000/40000 [==============================] - 30s 753us/step - loss: 0.1824 - acc: 0.9440 - val_loss: 1.2079 - val_acc: 0.7080\n",
            "Epoch 6/10\n",
            "40000/40000 [==============================] - 30s 752us/step - loss: 0.1501 - acc: 0.9534 - val_loss: 1.2890 - val_acc: 0.7070\n",
            "Epoch 7/10\n",
            "40000/40000 [==============================] - 30s 752us/step - loss: 0.1596 - acc: 0.9498 - val_loss: 1.4537 - val_acc: 0.7063\n",
            "Epoch 8/10\n",
            "40000/40000 [==============================] - 30s 752us/step - loss: 0.1796 - acc: 0.9423 - val_loss: 1.5158 - val_acc: 0.7048\n",
            "Epoch 9/10\n",
            "40000/40000 [==============================] - 30s 752us/step - loss: 0.1558 - acc: 0.9512 - val_loss: 1.5526 - val_acc: 0.7127\n",
            "Epoch 10/10\n",
            "40000/40000 [==============================] - 30s 753us/step - loss: 0.1210 - acc: 0.9612 - val_loss: 1.6656 - val_acc: 0.7097\n"
          ],
          "name": "stdout"
        },
        {
          "output_type": "execute_result",
          "data": {
            "text/plain": [
              "<keras.callbacks.History at 0x7f4fb9394f60>"
            ]
          },
          "metadata": {
            "tags": []
          },
          "execution_count": 8
        }
      ]
    },
    {
      "metadata": {
        "id": "tQRCPwCZHUB6",
        "colab_type": "code",
        "colab": {
          "base_uri": "https://localhost:8080/",
          "height": 54
        },
        "outputId": "d29e8da4-d53f-447d-ffd4-6dc1f7e64ac5"
      },
      "cell_type": "code",
      "source": [
        "model.evaluate(x_test, y_test)"
      ],
      "execution_count": 9,
      "outputs": [
        {
          "output_type": "stream",
          "text": [
            "10000/10000 [==============================] - 9s 893us/step\n"
          ],
          "name": "stdout"
        },
        {
          "output_type": "execute_result",
          "data": {
            "text/plain": [
              "[1.6849238495826722, 0.7087]"
            ]
          },
          "metadata": {
            "tags": []
          },
          "execution_count": 9
        }
      ]
    }
  ]
}