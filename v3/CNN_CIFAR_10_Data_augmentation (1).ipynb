{
  "nbformat": 4,
  "nbformat_minor": 0,
  "metadata": {
    "colab": {
      "name": "CNN_CIFAR_10_Data_augmentation.ipynb",
      "version": "0.3.2",
      "provenance": [],
      "collapsed_sections": []
    },
    "kernelspec": {
      "name": "python3",
      "display_name": "Python 3"
    },
    "accelerator": "GPU"
  },
  "cells": [
    {
      "metadata": {
        "id": "OhkmSIgO_aQ5",
        "colab_type": "code",
        "colab": {
          "base_uri": "https://localhost:8080/",
          "height": 35
        },
        "outputId": "c3839d24-5705-4d33-fbdf-9e8f66d85d77"
      },
      "cell_type": "code",
      "source": [
        "import keras\n",
        "from keras.datasets import cifar10"
      ],
      "execution_count": 1,
      "outputs": [
        {
          "output_type": "stream",
          "text": [
            "Using TensorFlow backend.\n"
          ],
          "name": "stderr"
        }
      ]
    },
    {
      "metadata": {
        "id": "dG9jTI8QAjfx",
        "colab_type": "code",
        "colab": {
          "base_uri": "https://localhost:8080/",
          "height": 54
        },
        "outputId": "13676a90-b04e-40b3-e429-f1e1d008bff8"
      },
      "cell_type": "code",
      "source": [
        "(x_train, y_train), (x_test, y_test) = cifar10.load_data()"
      ],
      "execution_count": 2,
      "outputs": [
        {
          "output_type": "stream",
          "text": [
            "Downloading data from https://www.cs.toronto.edu/~kriz/cifar-10-python.tar.gz\n",
            "170500096/170498071 [==============================] - 20s 0us/step\n"
          ],
          "name": "stdout"
        }
      ]
    },
    {
      "metadata": {
        "id": "xBHa2nm8Ay61",
        "colab_type": "code",
        "colab": {}
      },
      "cell_type": "code",
      "source": [
        "from keras.utils import to_categorical\n",
        "num_classes = 10\n",
        "y_train = to_categorical(y_train)\n",
        "y_test = to_categorical(y_test)"
      ],
      "execution_count": 0,
      "outputs": []
    },
    {
      "metadata": {
        "id": "HTCrLbLeA3pp",
        "colab_type": "code",
        "colab": {}
      },
      "cell_type": "code",
      "source": [
        "x_train = x_train.astype('float32')\n",
        "x_test = x_test.astype('float32')\n",
        "x_train /= 255.0\n",
        "x_test /= 255.0"
      ],
      "execution_count": 0,
      "outputs": []
    },
    {
      "metadata": {
        "id": "mzq9ljsCA-io",
        "colab_type": "code",
        "colab": {}
      },
      "cell_type": "code",
      "source": [
        "from keras.models import Sequential\n",
        "from keras.layers import Conv2D, MaxPooling2D\n",
        "from keras.layers import Dense, Dropout, Activation, Flatten"
      ],
      "execution_count": 0,
      "outputs": []
    },
    {
      "metadata": {
        "id": "jxpdj1qsBBJY",
        "colab_type": "code",
        "colab": {}
      },
      "cell_type": "code",
      "source": [
        "model = Sequential()\n",
        "\n",
        "model.add(Conv2D(32, (3,3), padding='same', input_shape = x_train.shape[1:]))\n",
        "model.add(Activation('relu'))\n",
        "model.add(Conv2D(32, (3,3), activation='relu'))\n",
        "model.add(MaxPooling2D(pool_size = (2,2)))\n",
        "model.add(Dropout(0.25))\n",
        "\n",
        "model.add(Conv2D(64, (3,3), padding='same'))\n",
        "model.add(Activation('relu'))\n",
        "model.add(Conv2D(64, (3,3), activation='relu'))\n",
        "model.add(MaxPooling2D(pool_size = (2,2)))\n",
        "model.add(Dropout(0.25))\n",
        "\n",
        "model.add(Conv2D(64, (3,3), padding='same'))\n",
        "model.add(Activation('relu'))\n",
        "model.add(Conv2D(64, (3,3), activation='relu'))\n",
        "model.add(MaxPooling2D(pool_size = (2,2)))\n",
        "model.add(Dropout(0.25))\n",
        "\n",
        "model.add(Flatten())\n",
        "model.add(Dense(512))\n",
        "model.add(Activation('relu'))\n",
        "model.add(Dropout(0.5))\n",
        "model.add(Dense(num_classes))\n",
        "model.add(Activation('softmax'))"
      ],
      "execution_count": 0,
      "outputs": []
    },
    {
      "metadata": {
        "id": "uxIMuPyOBWyF",
        "colab_type": "code",
        "colab": {
          "base_uri": "https://localhost:8080/",
          "height": 926
        },
        "outputId": "ff3a9de3-e1d7-4335-ea70-c826a1c808c7"
      },
      "cell_type": "code",
      "source": [
        "print(model.summary())"
      ],
      "execution_count": 7,
      "outputs": [
        {
          "output_type": "stream",
          "text": [
            "_________________________________________________________________\n",
            "Layer (type)                 Output Shape              Param #   \n",
            "=================================================================\n",
            "conv2d_1 (Conv2D)            (None, 32, 32, 32)        896       \n",
            "_________________________________________________________________\n",
            "activation_1 (Activation)    (None, 32, 32, 32)        0         \n",
            "_________________________________________________________________\n",
            "conv2d_2 (Conv2D)            (None, 30, 30, 32)        9248      \n",
            "_________________________________________________________________\n",
            "max_pooling2d_1 (MaxPooling2 (None, 15, 15, 32)        0         \n",
            "_________________________________________________________________\n",
            "dropout_1 (Dropout)          (None, 15, 15, 32)        0         \n",
            "_________________________________________________________________\n",
            "conv2d_3 (Conv2D)            (None, 15, 15, 64)        18496     \n",
            "_________________________________________________________________\n",
            "activation_2 (Activation)    (None, 15, 15, 64)        0         \n",
            "_________________________________________________________________\n",
            "conv2d_4 (Conv2D)            (None, 13, 13, 64)        36928     \n",
            "_________________________________________________________________\n",
            "max_pooling2d_2 (MaxPooling2 (None, 6, 6, 64)          0         \n",
            "_________________________________________________________________\n",
            "dropout_2 (Dropout)          (None, 6, 6, 64)          0         \n",
            "_________________________________________________________________\n",
            "conv2d_5 (Conv2D)            (None, 6, 6, 64)          36928     \n",
            "_________________________________________________________________\n",
            "activation_3 (Activation)    (None, 6, 6, 64)          0         \n",
            "_________________________________________________________________\n",
            "conv2d_6 (Conv2D)            (None, 4, 4, 64)          36928     \n",
            "_________________________________________________________________\n",
            "max_pooling2d_3 (MaxPooling2 (None, 2, 2, 64)          0         \n",
            "_________________________________________________________________\n",
            "dropout_3 (Dropout)          (None, 2, 2, 64)          0         \n",
            "_________________________________________________________________\n",
            "flatten_1 (Flatten)          (None, 256)               0         \n",
            "_________________________________________________________________\n",
            "dense_1 (Dense)              (None, 512)               131584    \n",
            "_________________________________________________________________\n",
            "activation_4 (Activation)    (None, 512)               0         \n",
            "_________________________________________________________________\n",
            "dropout_4 (Dropout)          (None, 512)               0         \n",
            "_________________________________________________________________\n",
            "dense_2 (Dense)              (None, 10)                5130      \n",
            "_________________________________________________________________\n",
            "activation_5 (Activation)    (None, 10)                0         \n",
            "=================================================================\n",
            "Total params: 276,138\n",
            "Trainable params: 276,138\n",
            "Non-trainable params: 0\n",
            "_________________________________________________________________\n",
            "None\n"
          ],
          "name": "stdout"
        }
      ]
    },
    {
      "metadata": {
        "id": "X3vE60VuBbTL",
        "colab_type": "code",
        "colab": {}
      },
      "cell_type": "code",
      "source": [
        "batch_size = 64\n",
        "epochs = 100"
      ],
      "execution_count": 0,
      "outputs": []
    },
    {
      "metadata": {
        "id": "VQzwqUtwCEvU",
        "colab_type": "code",
        "colab": {}
      },
      "cell_type": "code",
      "source": [
        "model.compile(optimizer='adagrad',loss='categorical_crossentropy', metrics=['accuracy'])"
      ],
      "execution_count": 0,
      "outputs": []
    },
    {
      "metadata": {
        "id": "mV2KZuVYCO_i",
        "colab_type": "code",
        "colab": {}
      },
      "cell_type": "code",
      "source": [
        "from keras.preprocessing.image import ImageDataGenerator"
      ],
      "execution_count": 0,
      "outputs": []
    },
    {
      "metadata": {
        "id": "A2CwwsYXDMJe",
        "colab_type": "code",
        "colab": {}
      },
      "cell_type": "code",
      "source": [
        "datagen = ImageDataGenerator(zoom_range=0.2 ,\n",
        "    rotation_range=10,\n",
        "    width_shift_range=0.1,\n",
        "    height_shift_range=0.1,\n",
        "    horizontal_flip=True,\n",
        "    vertical_flip = False )\n"
      ],
      "execution_count": 0,
      "outputs": []
    },
    {
      "metadata": {
        "id": "H6wsnFeA9Q27",
        "colab_type": "code",
        "colab": {
          "base_uri": "https://localhost:8080/",
          "height": 3672
        },
        "outputId": "28c00b20-040f-4422-bdf9-6ad856d7923c"
      },
      "cell_type": "code",
      "source": [
        "model.fit_generator(datagen.flow(x_train, y_train,   batch_size=batch_size), steps_per_epoch= len(x_train)/batch_size , epochs=epochs, validation_data= (x_test, y_test))"
      ],
      "execution_count": 12,
      "outputs": [
        {
          "output_type": "stream",
          "text": [
            "Epoch 1/100\n",
            "782/781 [==============================] - 44s 57ms/step - loss: 1.9343 - acc: 0.2757 - val_loss: 1.5720 - val_acc: 0.4233\n",
            "Epoch 2/100\n",
            "782/781 [==============================] - 42s 54ms/step - loss: 1.5609 - acc: 0.4269 - val_loss: 1.3500 - val_acc: 0.5063\n",
            "Epoch 3/100\n",
            "782/781 [==============================] - 42s 54ms/step - loss: 1.4033 - acc: 0.4911 - val_loss: 1.1839 - val_acc: 0.5700\n",
            "Epoch 4/100\n",
            "782/781 [==============================] - 43s 55ms/step - loss: 1.3111 - acc: 0.5258 - val_loss: 1.2028 - val_acc: 0.5689\n",
            "Epoch 5/100\n",
            "782/781 [==============================] - 42s 54ms/step - loss: 1.2498 - acc: 0.5508 - val_loss: 1.0870 - val_acc: 0.6090\n",
            "Epoch 6/100\n",
            "782/781 [==============================] - 42s 54ms/step - loss: 1.2069 - acc: 0.5673 - val_loss: 1.0942 - val_acc: 0.6118\n",
            "Epoch 7/100\n",
            "782/781 [==============================] - 42s 54ms/step - loss: 1.1685 - acc: 0.5839 - val_loss: 1.0050 - val_acc: 0.6401\n",
            "Epoch 8/100\n",
            "782/781 [==============================] - 44s 56ms/step - loss: 1.1341 - acc: 0.5968 - val_loss: 1.1571 - val_acc: 0.5934\n",
            "Epoch 9/100\n",
            "782/781 [==============================] - 43s 55ms/step - loss: 1.1076 - acc: 0.6035 - val_loss: 1.0437 - val_acc: 0.6308\n",
            "Epoch 10/100\n",
            "782/781 [==============================] - 43s 54ms/step - loss: 1.0882 - acc: 0.6114 - val_loss: 1.0207 - val_acc: 0.6420\n",
            "Epoch 11/100\n",
            "782/781 [==============================] - 43s 55ms/step - loss: 1.0645 - acc: 0.6231 - val_loss: 0.9668 - val_acc: 0.6643\n",
            "Epoch 12/100\n",
            "782/781 [==============================] - 42s 54ms/step - loss: 1.0453 - acc: 0.6282 - val_loss: 0.9274 - val_acc: 0.6710\n",
            "Epoch 13/100\n",
            "782/781 [==============================] - 42s 54ms/step - loss: 1.0256 - acc: 0.6344 - val_loss: 0.9060 - val_acc: 0.6785\n",
            "Epoch 14/100\n",
            "782/781 [==============================] - 42s 54ms/step - loss: 1.0076 - acc: 0.6429 - val_loss: 0.8692 - val_acc: 0.6928\n",
            "Epoch 15/100\n",
            "782/781 [==============================] - 44s 56ms/step - loss: 0.9956 - acc: 0.6450 - val_loss: 0.9785 - val_acc: 0.6619\n",
            "Epoch 16/100\n",
            "782/781 [==============================] - 42s 54ms/step - loss: 0.9799 - acc: 0.6528 - val_loss: 0.8577 - val_acc: 0.6950\n",
            "Epoch 17/100\n",
            "782/781 [==============================] - 42s 54ms/step - loss: 0.9667 - acc: 0.6583 - val_loss: 0.9108 - val_acc: 0.6793\n",
            "Epoch 18/100\n",
            "782/781 [==============================] - 43s 55ms/step - loss: 0.9551 - acc: 0.6612 - val_loss: 0.8555 - val_acc: 0.6984\n",
            "Epoch 19/100\n",
            "782/781 [==============================] - 43s 55ms/step - loss: 0.9433 - acc: 0.6683 - val_loss: 0.8447 - val_acc: 0.7045\n",
            "Epoch 20/100\n",
            "782/781 [==============================] - 42s 54ms/step - loss: 0.9342 - acc: 0.6699 - val_loss: 0.8690 - val_acc: 0.6986\n",
            "Epoch 21/100\n",
            "782/781 [==============================] - 42s 54ms/step - loss: 0.9239 - acc: 0.6735 - val_loss: 0.8120 - val_acc: 0.7173\n",
            "Epoch 22/100\n",
            "782/781 [==============================] - 42s 54ms/step - loss: 0.9089 - acc: 0.6792 - val_loss: 0.8116 - val_acc: 0.7179\n",
            "Epoch 23/100\n",
            "782/781 [==============================] - 43s 54ms/step - loss: 0.9031 - acc: 0.6811 - val_loss: 0.8442 - val_acc: 0.7095\n",
            "Epoch 24/100\n",
            "782/781 [==============================] - 42s 54ms/step - loss: 0.8963 - acc: 0.6840 - val_loss: 0.8427 - val_acc: 0.7049\n",
            "Epoch 25/100\n",
            "782/781 [==============================] - 43s 54ms/step - loss: 0.8882 - acc: 0.6865 - val_loss: 0.8117 - val_acc: 0.7186\n",
            "Epoch 26/100\n",
            "782/781 [==============================] - 43s 55ms/step - loss: 0.8802 - acc: 0.6908 - val_loss: 0.8098 - val_acc: 0.7186\n",
            "Epoch 27/100\n",
            "782/781 [==============================] - 42s 54ms/step - loss: 0.8766 - acc: 0.6935 - val_loss: 0.7824 - val_acc: 0.7289\n",
            "Epoch 28/100\n",
            "782/781 [==============================] - 42s 54ms/step - loss: 0.8684 - acc: 0.6944 - val_loss: 0.7656 - val_acc: 0.7323\n",
            "Epoch 29/100\n",
            "782/781 [==============================] - 42s 54ms/step - loss: 0.8588 - acc: 0.6997 - val_loss: 0.7917 - val_acc: 0.7283\n",
            "Epoch 30/100\n",
            "782/781 [==============================] - 42s 54ms/step - loss: 0.8545 - acc: 0.7015 - val_loss: 0.7515 - val_acc: 0.7357\n",
            "Epoch 31/100\n",
            "782/781 [==============================] - 43s 54ms/step - loss: 0.8502 - acc: 0.7023 - val_loss: 0.7888 - val_acc: 0.7260\n",
            "Epoch 32/100\n",
            "782/781 [==============================] - 42s 54ms/step - loss: 0.8397 - acc: 0.7026 - val_loss: 0.7658 - val_acc: 0.7348\n",
            "Epoch 33/100\n",
            "782/781 [==============================] - 43s 55ms/step - loss: 0.8400 - acc: 0.7058 - val_loss: 0.7781 - val_acc: 0.7288\n",
            "Epoch 34/100\n",
            "782/781 [==============================] - 43s 55ms/step - loss: 0.8330 - acc: 0.7082 - val_loss: 0.7920 - val_acc: 0.7250\n",
            "Epoch 35/100\n",
            "782/781 [==============================] - 42s 54ms/step - loss: 0.8323 - acc: 0.7097 - val_loss: 0.7681 - val_acc: 0.7342\n",
            "Epoch 36/100\n",
            "782/781 [==============================] - 42s 54ms/step - loss: 0.8190 - acc: 0.7135 - val_loss: 0.7669 - val_acc: 0.7398\n",
            "Epoch 37/100\n",
            "782/781 [==============================] - 42s 54ms/step - loss: 0.8171 - acc: 0.7157 - val_loss: 0.7396 - val_acc: 0.7426\n",
            "Epoch 38/100\n",
            "782/781 [==============================] - 42s 54ms/step - loss: 0.8149 - acc: 0.7144 - val_loss: 0.7602 - val_acc: 0.7335\n",
            "Epoch 39/100\n",
            "782/781 [==============================] - 43s 55ms/step - loss: 0.8123 - acc: 0.7139 - val_loss: 0.7581 - val_acc: 0.7383\n",
            "Epoch 40/100\n",
            "782/781 [==============================] - 43s 54ms/step - loss: 0.8037 - acc: 0.7171 - val_loss: 0.7415 - val_acc: 0.7413\n",
            "Epoch 41/100\n",
            "782/781 [==============================] - 43s 55ms/step - loss: 0.8030 - acc: 0.7186 - val_loss: 0.7503 - val_acc: 0.7401\n",
            "Epoch 42/100\n",
            "782/781 [==============================] - 42s 54ms/step - loss: 0.7968 - acc: 0.7230 - val_loss: 0.7325 - val_acc: 0.7443\n",
            "Epoch 43/100\n",
            "782/781 [==============================] - 42s 54ms/step - loss: 0.7984 - acc: 0.7207 - val_loss: 0.7234 - val_acc: 0.7492\n",
            "Epoch 44/100\n",
            "782/781 [==============================] - 43s 54ms/step - loss: 0.7930 - acc: 0.7240 - val_loss: 0.7343 - val_acc: 0.7461\n",
            "Epoch 45/100\n",
            "782/781 [==============================] - 43s 55ms/step - loss: 0.7873 - acc: 0.7229 - val_loss: 0.7695 - val_acc: 0.7344\n",
            "Epoch 46/100\n",
            "782/781 [==============================] - 42s 54ms/step - loss: 0.7849 - acc: 0.7248 - val_loss: 0.7148 - val_acc: 0.7522\n",
            "Epoch 47/100\n",
            "782/781 [==============================] - 42s 54ms/step - loss: 0.7780 - acc: 0.7270 - val_loss: 0.7161 - val_acc: 0.7536\n",
            "Epoch 48/100\n",
            "782/781 [==============================] - 43s 55ms/step - loss: 0.7794 - acc: 0.7275 - val_loss: 0.7450 - val_acc: 0.7451\n",
            "Epoch 49/100\n",
            "782/781 [==============================] - 42s 54ms/step - loss: 0.7740 - acc: 0.7299 - val_loss: 0.7045 - val_acc: 0.7586\n",
            "Epoch 50/100\n",
            "782/781 [==============================] - 42s 54ms/step - loss: 0.7768 - acc: 0.7279 - val_loss: 0.6802 - val_acc: 0.7651\n",
            "Epoch 51/100\n",
            "782/781 [==============================] - 42s 54ms/step - loss: 0.7706 - acc: 0.7304 - val_loss: 0.7426 - val_acc: 0.7463\n",
            "Epoch 52/100\n",
            "782/781 [==============================] - 42s 53ms/step - loss: 0.7649 - acc: 0.7348 - val_loss: 0.7171 - val_acc: 0.7526\n",
            "Epoch 53/100\n",
            "782/781 [==============================] - 42s 54ms/step - loss: 0.7645 - acc: 0.7323 - val_loss: 0.6804 - val_acc: 0.7667\n",
            "Epoch 54/100\n",
            "782/781 [==============================] - 42s 54ms/step - loss: 0.7630 - acc: 0.7321 - val_loss: 0.7068 - val_acc: 0.7555\n",
            "Epoch 55/100\n",
            "782/781 [==============================] - 43s 54ms/step - loss: 0.7596 - acc: 0.7346 - val_loss: 0.6826 - val_acc: 0.7681\n",
            "Epoch 56/100\n",
            "782/781 [==============================] - 42s 54ms/step - loss: 0.7571 - acc: 0.7362 - val_loss: 0.6973 - val_acc: 0.7626\n",
            "Epoch 57/100\n",
            "782/781 [==============================] - 42s 54ms/step - loss: 0.7578 - acc: 0.7362 - val_loss: 0.6892 - val_acc: 0.7632\n",
            "Epoch 58/100\n",
            "782/781 [==============================] - 42s 54ms/step - loss: 0.7487 - acc: 0.7395 - val_loss: 0.6787 - val_acc: 0.7686\n",
            "Epoch 59/100\n",
            "782/781 [==============================] - 43s 55ms/step - loss: 0.7470 - acc: 0.7384 - val_loss: 0.6586 - val_acc: 0.7741\n",
            "Epoch 60/100\n",
            "782/781 [==============================] - 43s 54ms/step - loss: 0.7452 - acc: 0.7387 - val_loss: 0.7019 - val_acc: 0.7610\n",
            "Epoch 61/100\n",
            "782/781 [==============================] - 43s 55ms/step - loss: 0.7430 - acc: 0.7390 - val_loss: 0.6699 - val_acc: 0.7705\n",
            "Epoch 62/100\n",
            "782/781 [==============================] - 43s 55ms/step - loss: 0.7407 - acc: 0.7379 - val_loss: 0.6506 - val_acc: 0.7767\n",
            "Epoch 63/100\n",
            "782/781 [==============================] - 43s 55ms/step - loss: 0.7379 - acc: 0.7430 - val_loss: 0.6765 - val_acc: 0.7711\n",
            "Epoch 64/100\n",
            "782/781 [==============================] - 42s 54ms/step - loss: 0.7387 - acc: 0.7418 - val_loss: 0.6686 - val_acc: 0.7705\n",
            "Epoch 65/100\n",
            "782/781 [==============================] - 42s 54ms/step - loss: 0.7355 - acc: 0.7425 - val_loss: 0.6773 - val_acc: 0.7669\n",
            "Epoch 66/100\n",
            "782/781 [==============================] - 43s 54ms/step - loss: 0.7270 - acc: 0.7466 - val_loss: 0.6996 - val_acc: 0.7626\n",
            "Epoch 67/100\n",
            "782/781 [==============================] - 42s 54ms/step - loss: 0.7293 - acc: 0.7458 - val_loss: 0.6783 - val_acc: 0.7656\n",
            "Epoch 68/100\n",
            "782/781 [==============================] - 43s 55ms/step - loss: 0.7273 - acc: 0.7457 - val_loss: 0.7131 - val_acc: 0.7590\n",
            "Epoch 69/100\n",
            "782/781 [==============================] - 43s 55ms/step - loss: 0.7284 - acc: 0.7461 - val_loss: 0.6489 - val_acc: 0.7781\n",
            "Epoch 70/100\n",
            "782/781 [==============================] - 43s 55ms/step - loss: 0.7214 - acc: 0.7487 - val_loss: 0.6709 - val_acc: 0.7747\n",
            "Epoch 71/100\n",
            "782/781 [==============================] - 42s 54ms/step - loss: 0.7241 - acc: 0.7468 - val_loss: 0.6371 - val_acc: 0.7829\n",
            "Epoch 72/100\n",
            "782/781 [==============================] - 42s 54ms/step - loss: 0.7197 - acc: 0.7478 - val_loss: 0.6766 - val_acc: 0.7713\n",
            "Epoch 73/100\n",
            "782/781 [==============================] - 43s 55ms/step - loss: 0.7162 - acc: 0.7518 - val_loss: 0.6791 - val_acc: 0.7687\n",
            "Epoch 74/100\n",
            "782/781 [==============================] - 43s 55ms/step - loss: 0.7159 - acc: 0.7498 - val_loss: 0.6793 - val_acc: 0.7688\n",
            "Epoch 75/100\n",
            "782/781 [==============================] - 42s 54ms/step - loss: 0.7163 - acc: 0.7487 - val_loss: 0.6554 - val_acc: 0.7762\n",
            "Epoch 76/100\n",
            "782/781 [==============================] - 43s 54ms/step - loss: 0.7128 - acc: 0.7504 - val_loss: 0.6705 - val_acc: 0.7742\n",
            "Epoch 77/100\n",
            "782/781 [==============================] - 43s 55ms/step - loss: 0.7145 - acc: 0.7517 - val_loss: 0.6636 - val_acc: 0.7743\n",
            "Epoch 78/100\n",
            "782/781 [==============================] - 43s 54ms/step - loss: 0.7109 - acc: 0.7523 - val_loss: 0.6489 - val_acc: 0.7768\n",
            "Epoch 79/100\n",
            "782/781 [==============================] - 46s 59ms/step - loss: 0.7115 - acc: 0.7535 - val_loss: 0.6443 - val_acc: 0.7838\n",
            "Epoch 80/100\n",
            "782/781 [==============================] - 43s 55ms/step - loss: 0.7071 - acc: 0.7540 - val_loss: 0.6613 - val_acc: 0.7762\n",
            "Epoch 81/100\n",
            "782/781 [==============================] - 43s 54ms/step - loss: 0.7031 - acc: 0.7547 - val_loss: 0.6419 - val_acc: 0.7808\n",
            "Epoch 82/100\n",
            "782/781 [==============================] - 43s 55ms/step - loss: 0.7010 - acc: 0.7540 - val_loss: 0.6685 - val_acc: 0.7754\n",
            "Epoch 83/100\n",
            "782/781 [==============================] - 43s 55ms/step - loss: 0.7012 - acc: 0.7529 - val_loss: 0.6770 - val_acc: 0.7717\n",
            "Epoch 84/100\n",
            "782/781 [==============================] - 43s 55ms/step - loss: 0.6994 - acc: 0.7560 - val_loss: 0.6359 - val_acc: 0.7846\n",
            "Epoch 85/100\n",
            "782/781 [==============================] - 43s 55ms/step - loss: 0.6982 - acc: 0.7584 - val_loss: 0.6450 - val_acc: 0.7793\n",
            "Epoch 86/100\n",
            "782/781 [==============================] - 42s 54ms/step - loss: 0.6966 - acc: 0.7557 - val_loss: 0.6494 - val_acc: 0.7737\n",
            "Epoch 87/100\n",
            "782/781 [==============================] - 43s 55ms/step - loss: 0.7019 - acc: 0.7551 - val_loss: 0.6336 - val_acc: 0.7852\n",
            "Epoch 88/100\n",
            "782/781 [==============================] - 43s 55ms/step - loss: 0.6914 - acc: 0.7570 - val_loss: 0.6966 - val_acc: 0.7635\n",
            "Epoch 89/100\n",
            "782/781 [==============================] - 42s 54ms/step - loss: 0.6931 - acc: 0.7582 - val_loss: 0.6793 - val_acc: 0.7725\n",
            "Epoch 90/100\n",
            "782/781 [==============================] - 42s 54ms/step - loss: 0.6876 - acc: 0.7592 - val_loss: 0.6573 - val_acc: 0.7785\n",
            "Epoch 91/100\n",
            "782/781 [==============================] - 42s 54ms/step - loss: 0.6979 - acc: 0.7551 - val_loss: 0.6723 - val_acc: 0.7706\n",
            "Epoch 92/100\n",
            "782/781 [==============================] - 43s 55ms/step - loss: 0.6879 - acc: 0.7594 - val_loss: 0.6288 - val_acc: 0.7861\n",
            "Epoch 93/100\n",
            "782/781 [==============================] - 42s 53ms/step - loss: 0.6867 - acc: 0.7630 - val_loss: 0.6529 - val_acc: 0.7805\n",
            "Epoch 94/100\n",
            "782/781 [==============================] - 42s 54ms/step - loss: 0.6889 - acc: 0.7590 - val_loss: 0.6427 - val_acc: 0.7844\n",
            "Epoch 95/100\n",
            "782/781 [==============================] - 42s 53ms/step - loss: 0.6844 - acc: 0.7603 - val_loss: 0.6481 - val_acc: 0.7819\n",
            "Epoch 96/100\n",
            "782/781 [==============================] - 42s 54ms/step - loss: 0.6842 - acc: 0.7609 - val_loss: 0.6364 - val_acc: 0.7829\n",
            "Epoch 97/100\n",
            "782/781 [==============================] - 42s 54ms/step - loss: 0.6821 - acc: 0.7624 - val_loss: 0.6380 - val_acc: 0.7826\n",
            "Epoch 98/100\n",
            "782/781 [==============================] - 43s 54ms/step - loss: 0.6873 - acc: 0.7619 - val_loss: 0.6671 - val_acc: 0.7755\n",
            "Epoch 99/100\n",
            "782/781 [==============================] - 43s 54ms/step - loss: 0.6798 - acc: 0.7626 - val_loss: 0.6861 - val_acc: 0.7687\n",
            "Epoch 100/100\n",
            "782/781 [==============================] - 42s 54ms/step - loss: 0.6848 - acc: 0.7628 - val_loss: 0.6673 - val_acc: 0.7732\n"
          ],
          "name": "stdout"
        },
        {
          "output_type": "execute_result",
          "data": {
            "text/plain": [
              "<keras.callbacks.History at 0x7f450c920f60>"
            ]
          },
          "metadata": {
            "tags": []
          },
          "execution_count": 12
        }
      ]
    },
    {
      "metadata": {
        "id": "73ZXF1Qo3XPX",
        "colab_type": "code",
        "colab": {
          "base_uri": "https://localhost:8080/",
          "height": 54
        },
        "outputId": "088ef425-ce09-498a-a9b0-13eab12f6695"
      },
      "cell_type": "code",
      "source": [
        "score = model.evaluate(x_test , y_test)\n",
        "print('Test accuracy : ', score[1])"
      ],
      "execution_count": 13,
      "outputs": [
        {
          "output_type": "stream",
          "text": [
            "10000/10000 [==============================] - 2s 201us/step\n",
            "Test accuracy :  0.7732\n"
          ],
          "name": "stdout"
        }
      ]
    }
  ]
}