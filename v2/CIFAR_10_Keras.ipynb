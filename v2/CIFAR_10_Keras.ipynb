{
  "nbformat": 4,
  "nbformat_minor": 0,
  "metadata": {
    "colab": {
      "name": "CIFAR-10_Keras.ipynb",
      "version": "0.3.2",
      "views": {},
      "default_view": {},
      "provenance": [],
      "collapsed_sections": []
    },
    "kernelspec": {
      "name": "python3",
      "display_name": "Python 3"
    },
    "accelerator": "GPU"
  },
  "cells": [
    {
      "metadata": {
        "id": "3-GToCMyEP9m",
        "colab_type": "code",
        "colab": {
          "autoexec": {
            "startup": false,
            "wait_interval": 0
          }
        }
      },
      "cell_type": "code",
      "source": [
        "import keras\n",
        "from keras.datasets import cifar10"
      ],
      "execution_count": 0,
      "outputs": []
    },
    {
      "metadata": {
        "id": "Cg1XBJfhEr6k",
        "colab_type": "code",
        "colab": {
          "autoexec": {
            "startup": false,
            "wait_interval": 0
          },
          "base_uri": "https://localhost:8080/",
          "height": 54
        },
        "outputId": "b930d260-df9c-486c-c607-15fa67bb2e87",
        "executionInfo": {
          "status": "ok",
          "timestamp": 1533817194700,
          "user_tz": -330,
          "elapsed": 46069,
          "user": {
            "displayName": "Vaibhav Kumar",
            "photoUrl": "https://lh3.googleusercontent.com/a/default-user=s128",
            "userId": "116244205712767455847"
          }
        }
      },
      "cell_type": "code",
      "source": [
        "(x_train, y_train), (x_test, y_test) = cifar10.load_data()"
      ],
      "execution_count": 5,
      "outputs": [
        {
          "output_type": "stream",
          "text": [
            "Downloading data from https://www.cs.toronto.edu/~kriz/cifar-10-python.tar.gz\n",
            "170500096/170498071 [==============================] - 41s 0us/step\n"
          ],
          "name": "stdout"
        }
      ]
    },
    {
      "metadata": {
        "id": "JfJuqmWqEzNZ",
        "colab_type": "code",
        "colab": {
          "autoexec": {
            "startup": false,
            "wait_interval": 0
          }
        }
      },
      "cell_type": "code",
      "source": [
        "from keras.utils import to_categorical\n",
        "num_classes = 10\n",
        "y_train = to_categorical(y_train)\n",
        "y_test = to_categorical(y_test)"
      ],
      "execution_count": 0,
      "outputs": []
    },
    {
      "metadata": {
        "id": "Hmg0hHTkl6WR",
        "colab_type": "code",
        "colab": {
          "autoexec": {
            "startup": false,
            "wait_interval": 0
          }
        }
      },
      "cell_type": "code",
      "source": [
        "x_train = x_train.astype('float32')\n",
        "x_test = x_test.astype('float32')\n",
        "x_train /= 255.0\n",
        "x_test /= 255.0"
      ],
      "execution_count": 0,
      "outputs": []
    },
    {
      "metadata": {
        "id": "8ofJYxLkmufL",
        "colab_type": "code",
        "colab": {
          "autoexec": {
            "startup": false,
            "wait_interval": 0
          }
        }
      },
      "cell_type": "code",
      "source": [
        "from keras.models import Sequential\n",
        "from keras.layers import Conv2D, MaxPooling2D\n",
        "from keras.layers import Dense, Dropout, Activation, Flatten"
      ],
      "execution_count": 0,
      "outputs": []
    },
    {
      "metadata": {
        "id": "B0fhFkgmp2y8",
        "colab_type": "code",
        "colab": {
          "autoexec": {
            "startup": false,
            "wait_interval": 0
          }
        }
      },
      "cell_type": "code",
      "source": [
        "model = Sequential()\n",
        "\n",
        "model.add(Conv2D(32, (3,3), padding='same', input_shape = x_train.shape[1:]))\n",
        "model.add(Activation('relu'))\n",
        "model.add(MaxPooling2D(pool_size = (2,2)))\n",
        "model.add(Dropout(0.3))\n",
        "\n",
        "model.add(Conv2D(64, (3,3), padding='same', input_shape = x_train.shape[1:]))\n",
        "model.add(Activation('relu'))\n",
        "model.add(MaxPooling2D(pool_size = (2,2)))\n",
        "model.add(Dropout(0.3))\n",
        "\n",
        "model.add(Conv2D(128, (3,3), padding='same', input_shape = x_train.shape[1:]))\n",
        "model.add(Activation('relu'))\n",
        "model.add(MaxPooling2D(pool_size = (2,2)))\n",
        "model.add(Dropout(0.3))\n",
        "\n",
        "model.add(Flatten())\n",
        "model.add(Dense(512))\n",
        "model.add(Activation('relu'))\n",
        "model.add(Dropout(0.3))\n",
        "model.add(Dense(num_classes))\n",
        "model.add(Activation('softmax'))"
      ],
      "execution_count": 0,
      "outputs": []
    },
    {
      "metadata": {
        "id": "D3dLP44zqqq0",
        "colab_type": "code",
        "colab": {
          "autoexec": {
            "startup": false,
            "wait_interval": 0
          },
          "base_uri": "https://localhost:8080/",
          "height": 817
        },
        "outputId": "3e14a66e-a1d5-474a-ed29-0dfb652d0994",
        "executionInfo": {
          "status": "ok",
          "timestamp": 1533817212357,
          "user_tz": -330,
          "elapsed": 1242,
          "user": {
            "displayName": "Vaibhav Kumar",
            "photoUrl": "https://lh3.googleusercontent.com/a/default-user=s128",
            "userId": "116244205712767455847"
          }
        }
      },
      "cell_type": "code",
      "source": [
        "print(model.summary())"
      ],
      "execution_count": 10,
      "outputs": [
        {
          "output_type": "stream",
          "text": [
            "_________________________________________________________________\n",
            "Layer (type)                 Output Shape              Param #   \n",
            "=================================================================\n",
            "conv2d_1 (Conv2D)            (None, 32, 32, 32)        896       \n",
            "_________________________________________________________________\n",
            "activation_1 (Activation)    (None, 32, 32, 32)        0         \n",
            "_________________________________________________________________\n",
            "max_pooling2d_1 (MaxPooling2 (None, 16, 16, 32)        0         \n",
            "_________________________________________________________________\n",
            "dropout_1 (Dropout)          (None, 16, 16, 32)        0         \n",
            "_________________________________________________________________\n",
            "conv2d_2 (Conv2D)            (None, 16, 16, 64)        18496     \n",
            "_________________________________________________________________\n",
            "activation_2 (Activation)    (None, 16, 16, 64)        0         \n",
            "_________________________________________________________________\n",
            "max_pooling2d_2 (MaxPooling2 (None, 8, 8, 64)          0         \n",
            "_________________________________________________________________\n",
            "dropout_2 (Dropout)          (None, 8, 8, 64)          0         \n",
            "_________________________________________________________________\n",
            "conv2d_3 (Conv2D)            (None, 8, 8, 128)         73856     \n",
            "_________________________________________________________________\n",
            "activation_3 (Activation)    (None, 8, 8, 128)         0         \n",
            "_________________________________________________________________\n",
            "max_pooling2d_3 (MaxPooling2 (None, 4, 4, 128)         0         \n",
            "_________________________________________________________________\n",
            "dropout_3 (Dropout)          (None, 4, 4, 128)         0         \n",
            "_________________________________________________________________\n",
            "flatten_1 (Flatten)          (None, 2048)              0         \n",
            "_________________________________________________________________\n",
            "dense_1 (Dense)              (None, 512)               1049088   \n",
            "_________________________________________________________________\n",
            "activation_4 (Activation)    (None, 512)               0         \n",
            "_________________________________________________________________\n",
            "dropout_4 (Dropout)          (None, 512)               0         \n",
            "_________________________________________________________________\n",
            "dense_2 (Dense)              (None, 10)                5130      \n",
            "_________________________________________________________________\n",
            "activation_5 (Activation)    (None, 10)                0         \n",
            "=================================================================\n",
            "Total params: 1,147,466\n",
            "Trainable params: 1,147,466\n",
            "Non-trainable params: 0\n",
            "_________________________________________________________________\n",
            "None\n"
          ],
          "name": "stdout"
        }
      ]
    },
    {
      "metadata": {
        "id": "qYgRUTHUsmol",
        "colab_type": "code",
        "colab": {
          "autoexec": {
            "startup": false,
            "wait_interval": 0
          }
        }
      },
      "cell_type": "code",
      "source": [
        "batch_size = 64\n",
        "epochs = 100"
      ],
      "execution_count": 0,
      "outputs": []
    },
    {
      "metadata": {
        "id": "1_SMLwoRtF9T",
        "colab_type": "code",
        "colab": {
          "autoexec": {
            "startup": false,
            "wait_interval": 0
          }
        }
      },
      "cell_type": "code",
      "source": [
        "model.compile(optimizer='adagrad',loss='categorical_crossentropy', metrics=['accuracy'])"
      ],
      "execution_count": 0,
      "outputs": []
    },
    {
      "metadata": {
        "id": "G5aRezOitqyq",
        "colab_type": "code",
        "colab": {
          "autoexec": {
            "startup": false,
            "wait_interval": 0
          },
          "base_uri": "https://localhost:8080/",
          "height": 3690
        },
        "outputId": "6e92bcb5-c187-416e-cba0-e953f4dd715a",
        "executionInfo": {
          "status": "ok",
          "timestamp": 1533818860220,
          "user_tz": -330,
          "elapsed": 1640926,
          "user": {
            "displayName": "Vaibhav Kumar",
            "photoUrl": "https://lh3.googleusercontent.com/a/default-user=s128",
            "userId": "116244205712767455847"
          }
        }
      },
      "cell_type": "code",
      "source": [
        "model.fit(x_train, y_train, batch_size=batch_size, epochs=epochs, validation_data= (x_test, y_test))"
      ],
      "execution_count": 13,
      "outputs": [
        {
          "output_type": "stream",
          "text": [
            "Train on 50000 samples, validate on 10000 samples\n",
            "Epoch 1/100\n",
            "50000/50000 [==============================] - 18s 368us/step - loss: 1.9134 - acc: 0.3537 - val_loss: 1.5094 - val_acc: 0.4615\n",
            "Epoch 2/100\n",
            "50000/50000 [==============================] - 16s 326us/step - loss: 1.3523 - acc: 0.5121 - val_loss: 1.3359 - val_acc: 0.5191\n",
            "Epoch 3/100\n",
            "50000/50000 [==============================] - 16s 328us/step - loss: 1.2285 - acc: 0.5596 - val_loss: 1.1029 - val_acc: 0.6111\n",
            "Epoch 4/100\n",
            "50000/50000 [==============================] - 16s 328us/step - loss: 1.1463 - acc: 0.5920 - val_loss: 1.0385 - val_acc: 0.6382\n",
            "Epoch 5/100\n",
            "50000/50000 [==============================] - 17s 330us/step - loss: 1.0859 - acc: 0.6135 - val_loss: 1.0068 - val_acc: 0.6439\n",
            "Epoch 6/100\n",
            "50000/50000 [==============================] - 16s 328us/step - loss: 1.0401 - acc: 0.6313 - val_loss: 1.0800 - val_acc: 0.6129\n",
            "Epoch 7/100\n",
            "50000/50000 [==============================] - 16s 328us/step - loss: 1.0066 - acc: 0.6453 - val_loss: 0.9495 - val_acc: 0.6665\n",
            "Epoch 8/100\n",
            "50000/50000 [==============================] - 16s 327us/step - loss: 0.9702 - acc: 0.6573 - val_loss: 0.8830 - val_acc: 0.6923\n",
            "Epoch 9/100\n",
            "50000/50000 [==============================] - 16s 329us/step - loss: 0.9412 - acc: 0.6684 - val_loss: 0.8605 - val_acc: 0.7045\n",
            "Epoch 10/100\n",
            "50000/50000 [==============================] - 16s 327us/step - loss: 0.9216 - acc: 0.6757 - val_loss: 0.8747 - val_acc: 0.6903\n",
            "Epoch 11/100\n",
            "50000/50000 [==============================] - 16s 327us/step - loss: 0.8959 - acc: 0.6851 - val_loss: 0.8620 - val_acc: 0.7018\n",
            "Epoch 12/100\n",
            "50000/50000 [==============================] - 16s 326us/step - loss: 0.8771 - acc: 0.6932 - val_loss: 0.9050 - val_acc: 0.6833\n",
            "Epoch 13/100\n",
            "50000/50000 [==============================] - 16s 327us/step - loss: 0.8605 - acc: 0.6975 - val_loss: 0.8090 - val_acc: 0.7201\n",
            "Epoch 14/100\n",
            "50000/50000 [==============================] - 16s 327us/step - loss: 0.8413 - acc: 0.7041 - val_loss: 0.8143 - val_acc: 0.7147\n",
            "Epoch 15/100\n",
            "50000/50000 [==============================] - 16s 325us/step - loss: 0.8327 - acc: 0.7091 - val_loss: 0.7727 - val_acc: 0.7352\n",
            "Epoch 16/100\n",
            "50000/50000 [==============================] - 16s 326us/step - loss: 0.8155 - acc: 0.7140 - val_loss: 0.7770 - val_acc: 0.7345\n",
            "Epoch 17/100\n",
            "50000/50000 [==============================] - 16s 326us/step - loss: 0.8004 - acc: 0.7187 - val_loss: 0.8121 - val_acc: 0.7167\n",
            "Epoch 18/100\n",
            "50000/50000 [==============================] - 16s 327us/step - loss: 0.7926 - acc: 0.7208 - val_loss: 0.7704 - val_acc: 0.7297\n",
            "Epoch 19/100\n",
            "50000/50000 [==============================] - 16s 328us/step - loss: 0.7773 - acc: 0.7270 - val_loss: 0.7694 - val_acc: 0.7344\n",
            "Epoch 20/100\n",
            "50000/50000 [==============================] - 16s 325us/step - loss: 0.7670 - acc: 0.7309 - val_loss: 0.7451 - val_acc: 0.7419\n",
            "Epoch 21/100\n",
            "50000/50000 [==============================] - 16s 325us/step - loss: 0.7557 - acc: 0.7347 - val_loss: 0.7687 - val_acc: 0.7342\n",
            "Epoch 22/100\n",
            "50000/50000 [==============================] - 16s 327us/step - loss: 0.7479 - acc: 0.7361 - val_loss: 0.7614 - val_acc: 0.7343\n",
            "Epoch 23/100\n",
            "50000/50000 [==============================] - 16s 327us/step - loss: 0.7401 - acc: 0.7417 - val_loss: 0.7077 - val_acc: 0.7598\n",
            "Epoch 24/100\n",
            "50000/50000 [==============================] - 16s 327us/step - loss: 0.7350 - acc: 0.7438 - val_loss: 0.7352 - val_acc: 0.7456\n",
            "Epoch 25/100\n",
            "50000/50000 [==============================] - 16s 327us/step - loss: 0.7197 - acc: 0.7463 - val_loss: 0.7170 - val_acc: 0.7547\n",
            "Epoch 26/100\n",
            "50000/50000 [==============================] - 16s 330us/step - loss: 0.7141 - acc: 0.7501 - val_loss: 0.6948 - val_acc: 0.7618\n",
            "Epoch 27/100\n",
            "50000/50000 [==============================] - 16s 327us/step - loss: 0.7075 - acc: 0.7499 - val_loss: 0.7012 - val_acc: 0.7585\n",
            "Epoch 28/100\n",
            "50000/50000 [==============================] - 16s 327us/step - loss: 0.7020 - acc: 0.7529 - val_loss: 0.6982 - val_acc: 0.7587\n",
            "Epoch 29/100\n",
            "50000/50000 [==============================] - 16s 328us/step - loss: 0.6892 - acc: 0.7578 - val_loss: 0.6909 - val_acc: 0.7641\n",
            "Epoch 30/100\n",
            "50000/50000 [==============================] - 16s 326us/step - loss: 0.6848 - acc: 0.7600 - val_loss: 0.6805 - val_acc: 0.7669\n",
            "Epoch 31/100\n",
            "50000/50000 [==============================] - 16s 327us/step - loss: 0.6744 - acc: 0.7620 - val_loss: 0.6958 - val_acc: 0.7592\n",
            "Epoch 32/100\n",
            "50000/50000 [==============================] - 16s 327us/step - loss: 0.6722 - acc: 0.7637 - val_loss: 0.6873 - val_acc: 0.7626\n",
            "Epoch 33/100\n",
            "50000/50000 [==============================] - 16s 327us/step - loss: 0.6667 - acc: 0.7673 - val_loss: 0.6807 - val_acc: 0.7646\n",
            "Epoch 34/100\n",
            "50000/50000 [==============================] - 16s 329us/step - loss: 0.6638 - acc: 0.7663 - val_loss: 0.6703 - val_acc: 0.7697\n",
            "Epoch 35/100\n",
            "50000/50000 [==============================] - 16s 326us/step - loss: 0.6557 - acc: 0.7684 - val_loss: 0.6664 - val_acc: 0.7700\n",
            "Epoch 36/100\n",
            "50000/50000 [==============================] - 16s 326us/step - loss: 0.6484 - acc: 0.7725 - val_loss: 0.6797 - val_acc: 0.7643\n",
            "Epoch 37/100\n",
            "50000/50000 [==============================] - 16s 326us/step - loss: 0.6430 - acc: 0.7741 - val_loss: 0.6570 - val_acc: 0.7749\n",
            "Epoch 38/100\n",
            "50000/50000 [==============================] - 16s 327us/step - loss: 0.6381 - acc: 0.7767 - val_loss: 0.6745 - val_acc: 0.7674\n",
            "Epoch 39/100\n",
            "50000/50000 [==============================] - 16s 329us/step - loss: 0.6295 - acc: 0.7778 - val_loss: 0.6567 - val_acc: 0.7732\n",
            "Epoch 40/100\n",
            "50000/50000 [==============================] - 16s 325us/step - loss: 0.6267 - acc: 0.7814 - val_loss: 0.6590 - val_acc: 0.7742\n",
            "Epoch 41/100\n",
            "50000/50000 [==============================] - 16s 326us/step - loss: 0.6209 - acc: 0.7833 - val_loss: 0.6905 - val_acc: 0.7610\n",
            "Epoch 42/100\n",
            "50000/50000 [==============================] - 16s 326us/step - loss: 0.6196 - acc: 0.7826 - val_loss: 0.6529 - val_acc: 0.7764\n",
            "Epoch 43/100\n",
            "50000/50000 [==============================] - 16s 326us/step - loss: 0.6132 - acc: 0.7828 - val_loss: 0.6439 - val_acc: 0.7786\n",
            "Epoch 44/100\n",
            "50000/50000 [==============================] - 16s 327us/step - loss: 0.6121 - acc: 0.7853 - val_loss: 0.6544 - val_acc: 0.7754\n",
            "Epoch 45/100\n",
            "50000/50000 [==============================] - 16s 326us/step - loss: 0.6045 - acc: 0.7865 - val_loss: 0.6472 - val_acc: 0.7777\n",
            "Epoch 46/100\n",
            "50000/50000 [==============================] - 16s 326us/step - loss: 0.5988 - acc: 0.7902 - val_loss: 0.6388 - val_acc: 0.7815\n",
            "Epoch 47/100\n",
            "50000/50000 [==============================] - 16s 326us/step - loss: 0.5967 - acc: 0.7901 - val_loss: 0.6278 - val_acc: 0.7859\n",
            "Epoch 48/100\n",
            "50000/50000 [==============================] - 16s 327us/step - loss: 0.5909 - acc: 0.7915 - val_loss: 0.6314 - val_acc: 0.7843\n",
            "Epoch 49/100\n",
            "50000/50000 [==============================] - 16s 328us/step - loss: 0.5836 - acc: 0.7949 - val_loss: 0.6456 - val_acc: 0.7782\n",
            "Epoch 50/100\n",
            "50000/50000 [==============================] - 16s 325us/step - loss: 0.5814 - acc: 0.7955 - val_loss: 0.6315 - val_acc: 0.7859\n",
            "Epoch 51/100\n",
            "50000/50000 [==============================] - 16s 328us/step - loss: 0.5770 - acc: 0.7965 - val_loss: 0.6501 - val_acc: 0.7770\n",
            "Epoch 52/100\n",
            "50000/50000 [==============================] - 16s 328us/step - loss: 0.5749 - acc: 0.7994 - val_loss: 0.6278 - val_acc: 0.7843\n",
            "Epoch 53/100\n",
            "50000/50000 [==============================] - 16s 326us/step - loss: 0.5700 - acc: 0.7999 - val_loss: 0.6280 - val_acc: 0.7837\n",
            "Epoch 54/100\n",
            "50000/50000 [==============================] - 16s 327us/step - loss: 0.5666 - acc: 0.8017 - val_loss: 0.6273 - val_acc: 0.7867\n",
            "Epoch 55/100\n",
            "50000/50000 [==============================] - 16s 328us/step - loss: 0.5613 - acc: 0.8043 - val_loss: 0.6341 - val_acc: 0.7812\n",
            "Epoch 56/100\n",
            "50000/50000 [==============================] - 16s 327us/step - loss: 0.5588 - acc: 0.8051 - val_loss: 0.6315 - val_acc: 0.7830\n",
            "Epoch 57/100\n",
            "50000/50000 [==============================] - 16s 326us/step - loss: 0.5542 - acc: 0.8042 - val_loss: 0.6169 - val_acc: 0.7886\n",
            "Epoch 58/100\n",
            "50000/50000 [==============================] - 16s 327us/step - loss: 0.5568 - acc: 0.8033 - val_loss: 0.6209 - val_acc: 0.7883\n",
            "Epoch 59/100\n",
            "50000/50000 [==============================] - 16s 327us/step - loss: 0.5509 - acc: 0.8059 - val_loss: 0.6307 - val_acc: 0.7831\n",
            "Epoch 60/100\n",
            "50000/50000 [==============================] - 16s 325us/step - loss: 0.5425 - acc: 0.8090 - val_loss: 0.6209 - val_acc: 0.7877\n",
            "Epoch 61/100\n",
            "50000/50000 [==============================] - 16s 326us/step - loss: 0.5389 - acc: 0.8083 - val_loss: 0.6096 - val_acc: 0.7910\n",
            "Epoch 62/100\n",
            "50000/50000 [==============================] - 16s 326us/step - loss: 0.5394 - acc: 0.8098 - val_loss: 0.6163 - val_acc: 0.7895\n",
            "Epoch 63/100\n",
            "50000/50000 [==============================] - 16s 326us/step - loss: 0.5369 - acc: 0.8116 - val_loss: 0.6104 - val_acc: 0.7931\n",
            "Epoch 64/100\n",
            "50000/50000 [==============================] - 16s 327us/step - loss: 0.5308 - acc: 0.8127 - val_loss: 0.6094 - val_acc: 0.7927\n",
            "Epoch 65/100\n",
            "50000/50000 [==============================] - 16s 329us/step - loss: 0.5309 - acc: 0.8119 - val_loss: 0.6103 - val_acc: 0.7939\n",
            "Epoch 66/100\n",
            "50000/50000 [==============================] - 17s 330us/step - loss: 0.5255 - acc: 0.8149 - val_loss: 0.6124 - val_acc: 0.7908\n",
            "Epoch 67/100\n",
            "50000/50000 [==============================] - 16s 329us/step - loss: 0.5234 - acc: 0.8162 - val_loss: 0.6215 - val_acc: 0.7862\n",
            "Epoch 68/100\n",
            "50000/50000 [==============================] - 16s 328us/step - loss: 0.5142 - acc: 0.8189 - val_loss: 0.6117 - val_acc: 0.7911\n",
            "Epoch 69/100\n",
            "50000/50000 [==============================] - 16s 329us/step - loss: 0.5145 - acc: 0.8183 - val_loss: 0.6195 - val_acc: 0.7881\n",
            "Epoch 70/100\n",
            "50000/50000 [==============================] - 16s 329us/step - loss: 0.5110 - acc: 0.8217 - val_loss: 0.6192 - val_acc: 0.7882\n",
            "Epoch 71/100\n",
            "50000/50000 [==============================] - 17s 330us/step - loss: 0.5065 - acc: 0.8207 - val_loss: 0.6163 - val_acc: 0.7893\n",
            "Epoch 72/100\n",
            "50000/50000 [==============================] - 16s 329us/step - loss: 0.5081 - acc: 0.8196 - val_loss: 0.6144 - val_acc: 0.7893\n",
            "Epoch 73/100\n",
            "50000/50000 [==============================] - 16s 329us/step - loss: 0.5079 - acc: 0.8209 - val_loss: 0.6069 - val_acc: 0.7920\n",
            "Epoch 74/100\n",
            "50000/50000 [==============================] - 16s 329us/step - loss: 0.4973 - acc: 0.8229 - val_loss: 0.6041 - val_acc: 0.7946\n",
            "Epoch 75/100\n",
            "50000/50000 [==============================] - 16s 329us/step - loss: 0.4953 - acc: 0.8256 - val_loss: 0.6024 - val_acc: 0.7923\n",
            "Epoch 76/100\n",
            "50000/50000 [==============================] - 17s 331us/step - loss: 0.4877 - acc: 0.8287 - val_loss: 0.6029 - val_acc: 0.7959\n",
            "Epoch 77/100\n",
            "50000/50000 [==============================] - 16s 330us/step - loss: 0.4905 - acc: 0.8266 - val_loss: 0.6140 - val_acc: 0.7906\n",
            "Epoch 78/100\n",
            "50000/50000 [==============================] - 16s 329us/step - loss: 0.4896 - acc: 0.8262 - val_loss: 0.6076 - val_acc: 0.7931\n",
            "Epoch 79/100\n",
            "50000/50000 [==============================] - 16s 328us/step - loss: 0.4880 - acc: 0.8265 - val_loss: 0.6011 - val_acc: 0.7954\n",
            "Epoch 80/100\n",
            "50000/50000 [==============================] - 16s 328us/step - loss: 0.4830 - acc: 0.8304 - val_loss: 0.6012 - val_acc: 0.7972\n",
            "Epoch 81/100\n",
            "50000/50000 [==============================] - 16s 326us/step - loss: 0.4788 - acc: 0.8330 - val_loss: 0.6013 - val_acc: 0.7947\n",
            "Epoch 82/100\n",
            "50000/50000 [==============================] - 16s 327us/step - loss: 0.4755 - acc: 0.8309 - val_loss: 0.6053 - val_acc: 0.7925\n",
            "Epoch 83/100\n",
            "50000/50000 [==============================] - 16s 329us/step - loss: 0.4750 - acc: 0.8303 - val_loss: 0.5997 - val_acc: 0.7949\n",
            "Epoch 84/100\n",
            "50000/50000 [==============================] - 16s 330us/step - loss: 0.4720 - acc: 0.8316 - val_loss: 0.5980 - val_acc: 0.7971\n",
            "Epoch 85/100\n",
            "50000/50000 [==============================] - 16s 329us/step - loss: 0.4712 - acc: 0.8337 - val_loss: 0.6028 - val_acc: 0.7935\n",
            "Epoch 86/100\n",
            "50000/50000 [==============================] - 16s 330us/step - loss: 0.4710 - acc: 0.8344 - val_loss: 0.6099 - val_acc: 0.7935\n",
            "Epoch 87/100\n",
            "50000/50000 [==============================] - 16s 330us/step - loss: 0.4639 - acc: 0.8365 - val_loss: 0.6069 - val_acc: 0.7945\n",
            "Epoch 88/100\n",
            "50000/50000 [==============================] - 16s 329us/step - loss: 0.4597 - acc: 0.8373 - val_loss: 0.5972 - val_acc: 0.7970\n",
            "Epoch 89/100\n",
            "50000/50000 [==============================] - 16s 330us/step - loss: 0.4565 - acc: 0.8369 - val_loss: 0.5938 - val_acc: 0.7987\n",
            "Epoch 90/100\n",
            "50000/50000 [==============================] - 16s 326us/step - loss: 0.4579 - acc: 0.8370 - val_loss: 0.5992 - val_acc: 0.7981\n",
            "Epoch 91/100\n",
            "50000/50000 [==============================] - 16s 327us/step - loss: 0.4553 - acc: 0.8393 - val_loss: 0.5933 - val_acc: 0.8020\n",
            "Epoch 92/100\n",
            "50000/50000 [==============================] - 16s 327us/step - loss: 0.4537 - acc: 0.8399 - val_loss: 0.5955 - val_acc: 0.7980\n",
            "Epoch 93/100\n",
            "50000/50000 [==============================] - 16s 326us/step - loss: 0.4504 - acc: 0.8414 - val_loss: 0.6077 - val_acc: 0.7940\n",
            "Epoch 94/100\n",
            "50000/50000 [==============================] - 16s 327us/step - loss: 0.4465 - acc: 0.8433 - val_loss: 0.6035 - val_acc: 0.7956\n",
            "Epoch 95/100\n",
            "50000/50000 [==============================] - 16s 327us/step - loss: 0.4479 - acc: 0.8414 - val_loss: 0.5943 - val_acc: 0.7986\n",
            "Epoch 96/100\n",
            "50000/50000 [==============================] - 16s 326us/step - loss: 0.4418 - acc: 0.8436 - val_loss: 0.5993 - val_acc: 0.7970\n",
            "Epoch 97/100\n",
            "50000/50000 [==============================] - 16s 326us/step - loss: 0.4371 - acc: 0.8447 - val_loss: 0.5874 - val_acc: 0.8010\n",
            "Epoch 98/100\n",
            "50000/50000 [==============================] - 16s 325us/step - loss: 0.4422 - acc: 0.8427 - val_loss: 0.5960 - val_acc: 0.8001\n",
            "Epoch 99/100\n",
            "50000/50000 [==============================] - 16s 327us/step - loss: 0.4358 - acc: 0.8472 - val_loss: 0.5901 - val_acc: 0.7992\n",
            "Epoch 100/100\n",
            "50000/50000 [==============================] - 16s 329us/step - loss: 0.4279 - acc: 0.8470 - val_loss: 0.5951 - val_acc: 0.7999\n"
          ],
          "name": "stdout"
        },
        {
          "output_type": "execute_result",
          "data": {
            "text/plain": [
              "<keras.callbacks.History at 0x7f76359894a8>"
            ]
          },
          "metadata": {
            "tags": []
          },
          "execution_count": 13
        }
      ]
    },
    {
      "metadata": {
        "id": "XYXJB56Qu5Vc",
        "colab_type": "code",
        "colab": {
          "autoexec": {
            "startup": false,
            "wait_interval": 0
          },
          "base_uri": "https://localhost:8080/",
          "height": 54
        },
        "outputId": "4f73867d-fc5c-4fdd-9f3d-5a4b4410478e",
        "executionInfo": {
          "status": "ok",
          "timestamp": 1533818863974,
          "user_tz": -330,
          "elapsed": 3717,
          "user": {
            "displayName": "Vaibhav Kumar",
            "photoUrl": "https://lh3.googleusercontent.com/a/default-user=s128",
            "userId": "116244205712767455847"
          }
        }
      },
      "cell_type": "code",
      "source": [
        "score = model.evaluate(x_test , y_test)\n",
        "print('Test accuracy : ', score[1])"
      ],
      "execution_count": 14,
      "outputs": [
        {
          "output_type": "stream",
          "text": [
            "10000/10000 [==============================] - 2s 151us/step\n",
            "Test accuracy :  0.7999\n"
          ],
          "name": "stdout"
        }
      ]
    },
    {
      "metadata": {
        "id": "6Ly7k1PzvA17",
        "colab_type": "code",
        "colab": {
          "autoexec": {
            "startup": false,
            "wait_interval": 0
          }
        }
      },
      "cell_type": "code",
      "source": [
        ""
      ],
      "execution_count": 0,
      "outputs": []
    }
  ]
}